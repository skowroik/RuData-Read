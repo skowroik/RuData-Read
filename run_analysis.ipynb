{
 "cells": [
  {
   "cell_type": "code",
   "execution_count": 17,
   "metadata": {},
   "outputs": [],
   "source": [
    "import ROOT as rt\n",
    "import numpy as np\n",
    "import matplotlib.pyplot as plt\n",
    "from tqdm import tqdm\n",
    "%matplotlib inline"
   ]
  },
  {
   "cell_type": "code",
   "execution_count": 2,
   "metadata": {},
   "outputs": [],
   "source": [
    "#Open root file and get tree\n",
    "rf = rt.TFile(\"run_4024.root\",\"read\")\n",
    "evt_tree = rf.Get(\"ggpData\")"
   ]
  },
  {
   "cell_type": "code",
   "execution_count": 3,
   "metadata": {},
   "outputs": [],
   "source": [
    "def CFD(X, SCALE, DELAY):\n",
    "    X_1 = X*(-SCALE)\n",
    "    X_2 = np.roll(X,DELAY)\n",
    "    array = (X_2+X_1)[DELAY:]\n",
    "    min = np.argmin(array)\n",
    "    for i in range(min,array.size):\n",
    "        if array[i]>0:\n",
    "            break\n",
    "    \n",
    "    return i\n",
    "\n",
    "\n",
    "energies = []\n",
    "data = []\n",
    "risetime = []\n",
    "Imax = []\n",
    "x = 0"
   ]
  },
  {
   "cell_type": "code",
   "execution_count": 9,
   "metadata": {},
   "outputs": [],
   "source": [
    "for i, evt in enumerate(evt_tree):\n",
    "    if (evt.channel in [23,24,25]) & (x<10000) & (evt.energy>500) :\n",
    "        energies.append(evt.energy)\n",
    "        data.append((np.frombuffer(evt.samples, dtype = \"f\" )) - evt.baseline)\n",
    "        risetime.append(evt.riseTime)\n",
    "        Imax.append(np.amax(np.gradient(data[x])))\n",
    "        #cfd =  CFD(data[x], 0.4,10) \n",
    "        #plt.plot(np.roll(data[x],10-cfd)[0:60])\n",
    "        x +=1\n",
    "      "
   ]
  },
  {
   "cell_type": "code",
   "execution_count": 18,
   "metadata": {},
   "outputs": [
    {
     "data": {
      "text/plain": [
       "(array([[2., 0., 4., ..., 2., 1., 2.],\n",
       "        [0., 0., 2., ..., 0., 2., 0.],\n",
       "        [0., 0., 0., ..., 0., 0., 0.],\n",
       "        ...,\n",
       "        [0., 0., 0., ..., 0., 0., 0.],\n",
       "        [0., 0., 0., ..., 0., 0., 0.],\n",
       "        [0., 0., 0., ..., 0., 0., 0.]]),\n",
       " array([  3.  ,   5.04,   7.08,   9.12,  11.16,  13.2 ,  15.24,  17.28,\n",
       "         19.32,  21.36,  23.4 ,  25.44,  27.48,  29.52,  31.56,  33.6 ,\n",
       "         35.64,  37.68,  39.72,  41.76,  43.8 ,  45.84,  47.88,  49.92,\n",
       "         51.96,  54.  ,  56.04,  58.08,  60.12,  62.16,  64.2 ,  66.24,\n",
       "         68.28,  70.32,  72.36,  74.4 ,  76.44,  78.48,  80.52,  82.56,\n",
       "         84.6 ,  86.64,  88.68,  90.72,  92.76,  94.8 ,  96.84,  98.88,\n",
       "        100.92, 102.96, 105.  , 107.04, 109.08, 111.12, 113.16, 115.2 ,\n",
       "        117.24, 119.28, 121.32, 123.36, 125.4 , 127.44, 129.48, 131.52,\n",
       "        133.56, 135.6 , 137.64, 139.68, 141.72, 143.76, 145.8 , 147.84,\n",
       "        149.88, 151.92, 153.96, 156.  , 158.04, 160.08, 162.12, 164.16,\n",
       "        166.2 , 168.24, 170.28, 172.32, 174.36, 176.4 , 178.44, 180.48,\n",
       "        182.52, 184.56, 186.6 , 188.64, 190.68, 192.72, 194.76, 196.8 ,\n",
       "        198.84, 200.88, 202.92, 204.96, 207.  ]),\n",
       " array([-3.000e+00, -1.990e+00, -9.800e-01,  3.000e-02,  1.040e+00,\n",
       "         2.050e+00,  3.060e+00,  4.070e+00,  5.080e+00,  6.090e+00,\n",
       "         7.100e+00,  8.110e+00,  9.120e+00,  1.013e+01,  1.114e+01,\n",
       "         1.215e+01,  1.316e+01,  1.417e+01,  1.518e+01,  1.619e+01,\n",
       "         1.720e+01,  1.821e+01,  1.922e+01,  2.023e+01,  2.124e+01,\n",
       "         2.225e+01,  2.326e+01,  2.427e+01,  2.528e+01,  2.629e+01,\n",
       "         2.730e+01,  2.831e+01,  2.932e+01,  3.033e+01,  3.134e+01,\n",
       "         3.235e+01,  3.336e+01,  3.437e+01,  3.538e+01,  3.639e+01,\n",
       "         3.740e+01,  3.841e+01,  3.942e+01,  4.043e+01,  4.144e+01,\n",
       "         4.245e+01,  4.346e+01,  4.447e+01,  4.548e+01,  4.649e+01,\n",
       "         4.750e+01,  4.851e+01,  4.952e+01,  5.053e+01,  5.154e+01,\n",
       "         5.255e+01,  5.356e+01,  5.457e+01,  5.558e+01,  5.659e+01,\n",
       "         5.760e+01,  5.861e+01,  5.962e+01,  6.063e+01,  6.164e+01,\n",
       "         6.265e+01,  6.366e+01,  6.467e+01,  6.568e+01,  6.669e+01,\n",
       "         6.770e+01,  6.871e+01,  6.972e+01,  7.073e+01,  7.174e+01,\n",
       "         7.275e+01,  7.376e+01,  7.477e+01,  7.578e+01,  7.679e+01,\n",
       "         7.780e+01,  7.881e+01,  7.982e+01,  8.083e+01,  8.184e+01,\n",
       "         8.285e+01,  8.386e+01,  8.487e+01,  8.588e+01,  8.689e+01,\n",
       "         8.790e+01,  8.891e+01,  8.992e+01,  9.093e+01,  9.194e+01,\n",
       "         9.295e+01,  9.396e+01,  9.497e+01,  9.598e+01,  9.699e+01,\n",
       "         9.800e+01]),\n",
       " <matplotlib.collections.QuadMesh at 0x1240b0630>)"
      ]
     },
     "execution_count": 18,
     "metadata": {},
     "output_type": "execute_result"
    },
    {
     "data": {
      "image/png": "[encoded data removed]",
      "text/plain": [
       "<Figure size 432x288 with 1 Axes>"
      ]
     },
     "metadata": {
      "needs_background": "light"
     },
     "output_type": "display_data"
    }
   ],
   "source": [
    "plt.hist2d(Imax, risetime, bins=(100, 100), cmap=plt.cm.jet)"
   ]
  },
  {
   "cell_type": "code",
   "execution_count": 16,
   "metadata": {},
   "outputs": [
    {
     "data": {
      "text/plain": [
       "(array([ 38., 664., 369., 225., 422.,  38.,   2.,   2.,   4.,  17.]),\n",
       " array([-3. ,  7.1, 17.2, 27.3, 37.4, 47.5, 57.6, 67.7, 77.8, 87.9, 98. ]),\n",
       " <a list of 10 Patch objects>)"
      ]
     },
     "execution_count": 16,
     "metadata": {},
     "output_type": "execute_result"
    },
    {
     "data": {
      "image/png": "[encoded data removed]",
      "text/plain": [
       "<Figure size 432x288 with 1 Axes>"
      ]
     },
     "metadata": {
      "needs_background": "light"
     },
     "output_type": "display_data"
    }
   ],
   "source": [
    "plt.hist(risetime)"
   ]
  },
  {
   "cell_type": "code",
   "execution_count": null,
   "metadata": {},
   "outputs": [],
   "source": []
  }
 ],
 "metadata": {
  "kernelspec": {
   "display_name": "Python 3",
   "language": "python",
   "name": "python3"
  },
  "language_info": {
   "codemirror_mode": {
    "name": "ipython",
    "version": 3
   },
   "file_extension": ".py",
   "mimetype": "text/x-python",
   "name": "python",
   "nbconvert_exporter": "python",
   "pygments_lexer": "ipython3",
   "version": "3.7.3"
  }
 },
 "nbformat": 4,
 "nbformat_minor": 4
}
